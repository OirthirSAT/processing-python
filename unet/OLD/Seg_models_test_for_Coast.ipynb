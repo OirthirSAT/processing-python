{
  "cells": [
    {
      "cell_type": "code",
      "execution_count": 33,
      "metadata": {
        "id": "-JN5a-yuWxNg"
      },
      "outputs": [
        {
          "name": "stdout",
          "output_type": "stream",
          "text": [
            "Note: you may need to restart the kernel to use updated packages.\n",
            "Note: you may need to restart the kernel to use updated packages.\n",
            "Requirement already satisfied: keras in c:\\users\\callu\\appdata\\local\\programs\\python\\python311\\lib\\site-packages (3.6.0)\n",
            "Requirement already satisfied: tensorflow in c:\\users\\callu\\appdata\\local\\programs\\python\\python311\\lib\\site-packages (2.17.0)\n",
            "Requirement already satisfied: absl-py in c:\\users\\callu\\appdata\\local\\programs\\python\\python311\\lib\\site-packages (from keras) (2.1.0)\n",
            "Requirement already satisfied: numpy in c:\\users\\callu\\appdata\\local\\programs\\python\\python311\\lib\\site-packages (from keras) (1.24.2)\n",
            "Requirement already satisfied: rich in c:\\users\\callu\\appdata\\local\\programs\\python\\python311\\lib\\site-packages (from keras) (13.9.2)\n",
            "Requirement already satisfied: namex in c:\\users\\callu\\appdata\\local\\programs\\python\\python311\\lib\\site-packages (from keras) (0.0.8)\n",
            "Requirement already satisfied: h5py in c:\\users\\callu\\appdata\\local\\programs\\python\\python311\\lib\\site-packages (from keras) (3.12.1)\n",
            "Requirement already satisfied: optree in c:\\users\\callu\\appdata\\local\\programs\\python\\python311\\lib\\site-packages (from keras) (0.13.0)\n",
            "Requirement already satisfied: ml-dtypes in c:\\users\\callu\\appdata\\local\\programs\\python\\python311\\lib\\site-packages (from keras) (0.4.1)\n",
            "Requirement already satisfied: packaging in c:\\users\\callu\\appdata\\local\\programs\\python\\python311\\lib\\site-packages (from keras) (23.1)\n",
            "Requirement already satisfied: tensorflow-intel==2.17.0 in c:\\users\\callu\\appdata\\local\\programs\\python\\python311\\lib\\site-packages (from tensorflow) (2.17.0)\n",
            "Requirement already satisfied: astunparse>=1.6.0 in c:\\users\\callu\\appdata\\local\\programs\\python\\python311\\lib\\site-packages (from tensorflow-intel==2.17.0->tensorflow) (1.6.3)\n",
            "Requirement already satisfied: flatbuffers>=24.3.25 in c:\\users\\callu\\appdata\\local\\programs\\python\\python311\\lib\\site-packages (from tensorflow-intel==2.17.0->tensorflow) (24.3.25)\n",
            "Requirement already satisfied: gast!=0.5.0,!=0.5.1,!=0.5.2,>=0.2.1 in c:\\users\\callu\\appdata\\local\\programs\\python\\python311\\lib\\site-packages (from tensorflow-intel==2.17.0->tensorflow) (0.6.0)\n",
            "Requirement already satisfied: google-pasta>=0.1.1 in c:\\users\\callu\\appdata\\local\\programs\\python\\python311\\lib\\site-packages (from tensorflow-intel==2.17.0->tensorflow) (0.2.0)\n",
            "Requirement already satisfied: libclang>=13.0.0 in c:\\users\\callu\\appdata\\local\\programs\\python\\python311\\lib\\site-packages (from tensorflow-intel==2.17.0->tensorflow) (18.1.1)\n",
            "Requirement already satisfied: opt-einsum>=2.3.2 in c:\\users\\callu\\appdata\\local\\programs\\python\\python311\\lib\\site-packages (from tensorflow-intel==2.17.0->tensorflow) (3.4.0)\n",
            "Requirement already satisfied: protobuf!=4.21.0,!=4.21.1,!=4.21.2,!=4.21.3,!=4.21.4,!=4.21.5,<5.0.0dev,>=3.20.3 in c:\\users\\callu\\appdata\\local\\programs\\python\\python311\\lib\\site-packages (from tensorflow-intel==2.17.0->tensorflow) (4.25.5)\n",
            "Requirement already satisfied: requests<3,>=2.21.0 in c:\\users\\callu\\appdata\\local\\programs\\python\\python311\\lib\\site-packages (from tensorflow-intel==2.17.0->tensorflow) (2.32.3)\n",
            "Requirement already satisfied: setuptools in c:\\users\\callu\\appdata\\local\\programs\\python\\python311\\lib\\site-packages (from tensorflow-intel==2.17.0->tensorflow) (65.5.0)\n",
            "Requirement already satisfied: six>=1.12.0 in c:\\users\\callu\\appdata\\local\\programs\\python\\python311\\lib\\site-packages (from tensorflow-intel==2.17.0->tensorflow) (1.16.0)\n",
            "Requirement already satisfied: termcolor>=1.1.0 in c:\\users\\callu\\appdata\\local\\programs\\python\\python311\\lib\\site-packages (from tensorflow-intel==2.17.0->tensorflow) (2.5.0)\n",
            "Requirement already satisfied: typing-extensions>=3.6.6 in c:\\users\\callu\\appdata\\local\\programs\\python\\python311\\lib\\site-packages (from tensorflow-intel==2.17.0->tensorflow) (4.12.2)\n",
            "Requirement already satisfied: wrapt>=1.11.0 in c:\\users\\callu\\appdata\\local\\programs\\python\\python311\\lib\\site-packages (from tensorflow-intel==2.17.0->tensorflow) (1.16.0)\n",
            "Requirement already satisfied: grpcio<2.0,>=1.24.3 in c:\\users\\callu\\appdata\\local\\programs\\python\\python311\\lib\\site-packages (from tensorflow-intel==2.17.0->tensorflow) (1.66.2)\n",
            "Requirement already satisfied: tensorboard<2.18,>=2.17 in c:\\users\\callu\\appdata\\local\\programs\\python\\python311\\lib\\site-packages (from tensorflow-intel==2.17.0->tensorflow) (2.17.1)\n",
            "Requirement already satisfied: tensorflow-io-gcs-filesystem>=0.23.1 in c:\\users\\callu\\appdata\\local\\programs\\python\\python311\\lib\\site-packages (from tensorflow-intel==2.17.0->tensorflow) (0.31.0)\n",
            "Requirement already satisfied: markdown-it-py>=2.2.0 in c:\\users\\callu\\appdata\\local\\programs\\python\\python311\\lib\\site-packages (from rich->keras) (3.0.0)\n",
            "Requirement already satisfied: pygments<3.0.0,>=2.13.0 in c:\\users\\callu\\appdata\\local\\programs\\python\\python311\\lib\\site-packages (from rich->keras) (2.18.0)\n",
            "Requirement already satisfied: wheel<1.0,>=0.23.0 in c:\\users\\callu\\appdata\\local\\programs\\python\\python311\\lib\\site-packages (from astunparse>=1.6.0->tensorflow-intel==2.17.0->tensorflow) (0.44.0)\n",
            "Requirement already satisfied: mdurl~=0.1 in c:\\users\\callu\\appdata\\local\\programs\\python\\python311\\lib\\site-packages (from markdown-it-py>=2.2.0->rich->keras) (0.1.2)\n",
            "Requirement already satisfied: charset-normalizer<4,>=2 in c:\\users\\callu\\appdata\\local\\programs\\python\\python311\\lib\\site-packages (from requests<3,>=2.21.0->tensorflow-intel==2.17.0->tensorflow) (3.3.2)\n",
            "Requirement already satisfied: idna<4,>=2.5 in c:\\users\\callu\\appdata\\local\\programs\\python\\python311\\lib\\site-packages (from requests<3,>=2.21.0->tensorflow-intel==2.17.0->tensorflow) (3.10)\n",
            "Requirement already satisfied: urllib3<3,>=1.21.1 in c:\\users\\callu\\appdata\\local\\programs\\python\\python311\\lib\\site-packages (from requests<3,>=2.21.0->tensorflow-intel==2.17.0->tensorflow) (2.2.3)\n",
            "Requirement already satisfied: certifi>=2017.4.17 in c:\\users\\callu\\appdata\\local\\programs\\python\\python311\\lib\\site-packages (from requests<3,>=2.21.0->tensorflow-intel==2.17.0->tensorflow) (2024.8.30)\n",
            "Requirement already satisfied: markdown>=2.6.8 in c:\\users\\callu\\appdata\\local\\programs\\python\\python311\\lib\\site-packages (from tensorboard<2.18,>=2.17->tensorflow-intel==2.17.0->tensorflow) (3.7)\n",
            "Requirement already satisfied: tensorboard-data-server<0.8.0,>=0.7.0 in c:\\users\\callu\\appdata\\local\\programs\\python\\python311\\lib\\site-packages (from tensorboard<2.18,>=2.17->tensorflow-intel==2.17.0->tensorflow) (0.7.2)\n",
            "Requirement already satisfied: werkzeug>=1.0.1 in c:\\users\\callu\\appdata\\local\\programs\\python\\python311\\lib\\site-packages (from tensorboard<2.18,>=2.17->tensorflow-intel==2.17.0->tensorflow) (3.0.4)\n",
            "Requirement already satisfied: MarkupSafe>=2.1.1 in c:\\users\\callu\\appdata\\local\\programs\\python\\python311\\lib\\site-packages (from werkzeug>=1.0.1->tensorboard<2.18,>=2.17->tensorflow-intel==2.17.0->tensorflow) (2.1.5)\n",
            "Note: you may need to restart the kernel to use updated packages.\n",
            "Requirement already satisfied: pandas in c:\\users\\callu\\appdata\\local\\programs\\python\\python311\\lib\\site-packages (2.2.3)\n",
            "Requirement already satisfied: seaborn in c:\\users\\callu\\appdata\\local\\programs\\python\\python311\\lib\\site-packages (0.13.2)\n",
            "Requirement already satisfied: numpy>=1.23.2 in c:\\users\\callu\\appdata\\local\\programs\\python\\python311\\lib\\site-packages (from pandas) (1.24.2)\n",
            "Requirement already satisfied: python-dateutil>=2.8.2 in c:\\users\\callu\\appdata\\local\\programs\\python\\python311\\lib\\site-packages (from pandas) (2.8.2)\n",
            "Requirement already satisfied: pytz>=2020.1 in c:\\users\\callu\\appdata\\local\\programs\\python\\python311\\lib\\site-packages (from pandas) (2024.2)\n",
            "Requirement already satisfied: tzdata>=2022.7 in c:\\users\\callu\\appdata\\local\\programs\\python\\python311\\lib\\site-packages (from pandas) (2024.2)\n",
            "Requirement already satisfied: matplotlib!=3.6.1,>=3.4 in c:\\users\\callu\\appdata\\local\\programs\\python\\python311\\lib\\site-packages (from seaborn) (3.7.1)\n",
            "Requirement already satisfied: contourpy>=1.0.1 in c:\\users\\callu\\appdata\\local\\programs\\python\\python311\\lib\\site-packages (from matplotlib!=3.6.1,>=3.4->seaborn) (1.0.7)\n",
            "Requirement already satisfied: cycler>=0.10 in c:\\users\\callu\\appdata\\local\\programs\\python\\python311\\lib\\site-packages (from matplotlib!=3.6.1,>=3.4->seaborn) (0.11.0)\n",
            "Requirement already satisfied: fonttools>=4.22.0 in c:\\users\\callu\\appdata\\local\\programs\\python\\python311\\lib\\site-packages (from matplotlib!=3.6.1,>=3.4->seaborn) (4.39.3)\n",
            "Requirement already satisfied: kiwisolver>=1.0.1 in c:\\users\\callu\\appdata\\local\\programs\\python\\python311\\lib\\site-packages (from matplotlib!=3.6.1,>=3.4->seaborn) (1.4.4)\n",
            "Requirement already satisfied: packaging>=20.0 in c:\\users\\callu\\appdata\\local\\programs\\python\\python311\\lib\\site-packages (from matplotlib!=3.6.1,>=3.4->seaborn) (23.1)\n",
            "Requirement already satisfied: pillow>=6.2.0 in c:\\users\\callu\\appdata\\local\\programs\\python\\python311\\lib\\site-packages (from matplotlib!=3.6.1,>=3.4->seaborn) (9.5.0)\n",
            "Requirement already satisfied: pyparsing>=2.3.1 in c:\\users\\callu\\appdata\\local\\programs\\python\\python311\\lib\\site-packages (from matplotlib!=3.6.1,>=3.4->seaborn) (3.0.9)\n",
            "Requirement already satisfied: six>=1.5 in c:\\users\\callu\\appdata\\local\\programs\\python\\python311\\lib\\site-packages (from python-dateutil>=2.8.2->pandas) (1.16.0)\n",
            "Note: you may need to restart the kernel to use updated packages.\n"
          ]
        }
      ],
      "source": [
        "#pip packages install Change model\n",
        "%pip install patchify -q \n",
        "%pip install segmentation_models -q\n",
        "%pip install keras tensorflow\n",
        "%pip install pandas seaborn"
      ]
    },
    {
      "cell_type": "code",
      "execution_count": 34,
      "metadata": {
        "id": "bplx70iLWoOB"
      },
      "outputs": [
        {
          "name": "stdout",
          "output_type": "stream",
          "text": [
            "Segmentation Models: using `tf.keras` framework.\n"
          ]
        }
      ],
      "source": [
        "# importing required packages\n",
        "import os\n",
        "os.environ[\"SM_FRAMEWORK\"] = \"tf.keras\"\n",
        "import segmentation_models as sm\n",
        "import glob\n",
        "import numpy as np\n",
        "from numpy import load\n",
        "import matplotlib.pyplot as plt\n",
        "import tensorflow as tf\n",
        "from tensorflow.keras.models import load_model\n",
        "from tensorflow.keras import models\n",
        "import pandas as pd\n",
        "import seaborn as sns"
      ]
    },
    {
      "cell_type": "code",
      "execution_count": 36,
      "metadata": {
        "colab": {
          "base_uri": "https://localhost:8080/"
        },
        "id": "9fMLs73E0YIg",
        "outputId": "72470bbb-c595-4555-9c93-da830aa34487"
      },
      "outputs": [],
      "source": [
        "#setting path to training data\n",
        "path = 'UNET_training_data-20241014T071705Z-001/'\n",
        "npz_files = glob.glob(path+'*/*.npz', recursive=True)\n",
        "len(npz_files)\n",
        "np.savetxt(path+\"all_npz_files.csv\", npz_files, delimiter =\", \", fmt ='% s') #renaming path"
      ]
    },
    {
      "cell_type": "code",
      "execution_count": 37,
      "metadata": {
        "id": "UQhIDlipATzu"
      },
      "outputs": [],
      "source": [
        "filtered_datasets = [file for file in npz_files if 'marsh_vegetation' not in load(file)['classes']]\n",
        "len(filtered_datasets)\n",
        "np.savetxt(path+\"filtered_npz_files.csv\", filtered_datasets, delimiter =\", \", fmt ='% s')"
      ]
    },
    {
      "cell_type": "code",
      "execution_count": 13,
      "metadata": {
        "id": "jS3VYYha6fjv"
      },
      "outputs": [],
      "source": [
        "df = pd.read_csv(path+\"filtered_npz_files.csv\")\n",
        "datasets = df.values.flatten().tolist()\n",
        "datasets = [file for file in datasets if 'NAIP' not in file]\n",
        "# len(datasets)"
      ]
    },
    {
      "cell_type": "code",
      "execution_count": 23,
      "metadata": {
        "colab": {
          "base_uri": "https://localhost:8080/",
          "height": 252
        },
        "id": "WozRkiTNxkg6",
        "outputId": "66714136-200c-450a-d282-644cb1d397ca"
      },
      "outputs": [
        {
          "name": "stdout",
          "output_type": "stream",
          "text": [
            "(256, 256, 3)\n",
            "(256, 256, 3)\n",
            "['water', 'land', 'nodata']\n"
          ]
        },
        {
          "data": {
            "text/plain": [
              "False"
            ]
          },
          "execution_count": 23,
          "metadata": {},
          "output_type": "execute_result"
        }
      ],
      "source": [
        "data = load(datasets[9]) #change 9 to however many images you have - change to landsat - has more images than sentinel\n",
        "# print(list(data))\n",
        "print(data['image'].shape)\n",
        "print(data['label'].shape)\n",
        "print(list(data['classes']))\n",
        "\n",
        "np.any(np.isnan(data['image']))"
      ]
    },
    {
      "cell_type": "code",
      "execution_count": 76,
      "metadata": {
        "colab": {
          "base_uri": "https://localhost:8080/",
          "height": 543
        },
        "id": "GDip-EhBxsF0",
        "outputId": "c089db4a-e47f-4fb5-c343-12a08cb8b6b2"
      },
      "outputs": [
        {
          "ename": "IndexError",
          "evalue": "list index out of range",
          "output_type": "error",
          "traceback": [
            "\u001b[1;31m---------------------------------------------------------------------------\u001b[0m",
            "\u001b[1;31mIndexError\u001b[0m                                Traceback (most recent call last)",
            "Cell \u001b[1;32mIn[76], line 10\u001b[0m\n\u001b[0;32m      8\u001b[0m random_number \u001b[38;5;241m=\u001b[39m random\u001b[38;5;241m.\u001b[39mrandint(\u001b[38;5;241m0\u001b[39m, \u001b[38;5;28mlen\u001b[39m(datasets))\n\u001b[0;32m      9\u001b[0m \u001b[38;5;66;03m# random_number = 342\u001b[39;00m\n\u001b[1;32m---> 10\u001b[0m ds \u001b[38;5;241m=\u001b[39m load(\u001b[43mdatasets\u001b[49m\u001b[43m[\u001b[49m\u001b[43mrandom_number\u001b[49m\u001b[43m]\u001b[49m)\n\u001b[0;32m     11\u001b[0m \u001b[38;5;66;03m#print('data source:',datasets[random_number].split('/')[-2])\u001b[39;00m\n\u001b[0;32m     12\u001b[0m \u001b[38;5;66;03m# ds = load('/content/drive/MyDrive/CoastTrain_dataset/Landsat8_11_001/ventura_2019-10-05-18-28-42_L8_rgb_ID2.npz')\u001b[39;00m\n\u001b[0;32m     13\u001b[0m image \u001b[38;5;241m=\u001b[39m ds[\u001b[38;5;124m'\u001b[39m\u001b[38;5;124mimage\u001b[39m\u001b[38;5;124m'\u001b[39m]\n",
            "\u001b[1;31mIndexError\u001b[0m: list index out of range"
          ]
        }
      ],
      "source": [
        "#@title Sanity Check\n",
        "from matplotlib.colors import ListedColormap\n",
        "import matplotlib.ticker as ticker\n",
        "import math\n",
        "import matplotlib.patches as mpatches\n",
        "import random\n",
        "\n",
        "random_number = random.randint(0, len(datasets))\n",
        "# random_number = 342\n",
        "ds = load(datasets[random_number])\n",
        "#print('data source:',datasets[random_number].split('/')[-2])\n",
        "# ds = load('/content/drive/MyDrive/CoastTrain_dataset/Landsat8_11_001/ventura_2019-10-05-18-28-42_L8_rgb_ID2.npz')\n",
        "image = ds['image']\n",
        "mask = ds['label']\n",
        "classes = ds['classes']\n",
        "\n",
        "fig, ax = plt.subplots(1, 2, figsize=(8,4))\n",
        "plt.box(on=None)\n",
        "plt.setp(ax, xticks=[], yticks=[])\n",
        "\n",
        "ax[0].imshow(image)\n",
        "print('img shape :', image.shape)\n",
        "label = mask.astype('float')\n",
        "print('label shape :', label.shape)\n",
        "label[label == 0] = np.nan\n",
        "print('classes :', classes)\n",
        "\n",
        "palette_tab20 = sns.color_palette('tab20', 11)\n",
        "\n",
        "for i in range(label.shape[2]):\n",
        "    new_colormap = ListedColormap(sns.color_palette([palette_tab20[i]]))\n",
        "    ax[1].imshow(label[:, :, i], cmap=new_colormap)\n",
        "\n",
        "# # create a patch (proxy artist) for every color\n",
        "patches = [mpatches.Patch(color=palette_tab20[i],label=classes[i]) for i in range(label.shape[2])]\n",
        "\n",
        "# put those patched as legend-handles into the legend\n",
        "fig.legend(handles=patches, loc='lower center', ncols=3, bbox_to_anchor=(0.5,-0.14), frameon=False)\n",
        "\n",
        "plt.tight_layout()\n",
        "# plt.savefig('/content/drive/MyDrive/temp/categories_plot.eps', format='eps', dpi=300, bbox_inches='tight')\n",
        "plt.show()"
      ]
    }
  ],
  "metadata": {
    "accelerator": "GPU",
    "colab": {
      "gpuType": "T4",
      "provenance": []
    },
    "kernelspec": {
      "display_name": "Python 3",
      "name": "python3"
    },
    "language_info": {
      "codemirror_mode": {
        "name": "ipython",
        "version": 3
      },
      "file_extension": ".py",
      "mimetype": "text/x-python",
      "name": "python",
      "nbconvert_exporter": "python",
      "pygments_lexer": "ipython3",
      "version": "3.11.3"
    }
  },
  "nbformat": 4,
  "nbformat_minor": 0
}
